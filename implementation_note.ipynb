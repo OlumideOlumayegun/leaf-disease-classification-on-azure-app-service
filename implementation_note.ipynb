{
 "cells": [
  {
   "cell_type": "markdown",
   "metadata": {},
   "source": [
    "Followed project template from \"End to end Deep Learning Project Implementation using MLOps Tool MLflow & DVC with CICD Deployment (Chest Cancer Clasification)\" - https://www.youtube.com/watch?v=-NOIWzjJK-4"
   ]
  },
  {
   "cell_type": "markdown",
   "metadata": {},
   "source": [
    "#### Initial set up\n",
    "+ Create github repo: leaf-disease-classification-on-azure-app-service\n",
    "+ Clone repo into local machine\n",
    "+ Update template.py to create project folder structure\n",
    "+ Run `python template.py` to create the directories and files\n",
    "+ Git add, commit and push origin main, do this at regular interval\n",
    "+ Update requirements.txt file\n",
    "+ Set up and configure pyproject.toml together with setup.cfg for packaging and distribution\n",
    "+ Create a virtual environment and install requirements:\n",
    "```\n",
    "    $ python -m venv leafenv\n",
    "    $ . leafenv/Scripts/activate\n",
    "    $ pip install -r requirements.txt\n",
    "```\n",
    "+ check installed packages: \n",
    "```\n",
    "    pip list –local (or pip freeze)\n",
    "```\n",
    "+ Set up logging in src/emotionRecognition/__init__.py file\n",
    "+ Create util functions in src/emotionRecognition/utils/common.py file•\t\n"
   ]
  },
  {
   "cell_type": "markdown",
   "metadata": {},
   "source": [
    "#### General workflow to follow at each stage:\n",
    "+ Update config.yaml\n",
    "+ Update secrets.yaml [Optional]\n",
    "+ Update params.yaml\n",
    "+ Update the entity\n",
    "+ Update the configuration manager in src config\n",
    "+ Update the components\n",
    "+ Update the pipeline\n",
    "+ Update the main.py\n",
    "+ Update the dvc.yaml"
   ]
  },
  {
   "cell_type": "markdown",
   "metadata": {},
   "source": [
    "#### MLflow\n",
    "\n",
    "- [Documentation](https://mlflow.org/docs/latest/index.html)\n",
    "\n",
    "- [MLflow tutorial](https://youtube.com/playlist?list=PLkz_y24mlSJZrqiZ4_cLUiP0CBN5wFmTb&si=zEp_C8zLHt1DzWKK)\n",
    "\n",
    "##### cmd\n",
    "- mlflow ui\n",
    "\n",
    "#### dagshub\n",
    "[dagshub](https://dagshub.com/)\n",
    "\n",
    "\n",
    "##### DVC cmd\n",
    "\n",
    "1. dvc init\n",
    "2. dvc repro\n",
    "3. dvc dag\n",
    "\n",
    "#### About MLflow & DVC\n",
    "\n",
    "MLflow\n",
    "\n",
    " - Its Production Grade\n",
    " - Trace all of your expriements\n",
    " - Logging & taging your model\n",
    "\n",
    "\n",
    "DVC \n",
    "\n",
    " - Its very lite weight for POC only\n",
    " - lite weight expriements tracker\n",
    " - It can perform Orchestration (Creating Pipelines)"
   ]
  },
  {
   "cell_type": "markdown",
   "metadata": {},
   "source": [
    "#### Stage 1: Data ingestion\n",
    "+ Create and update research/01_data_ingestion.ipynb experiment notebook\n",
    "+ Update config/config.yaml file with data ingestion configuration\n",
    "+ Update entity (src/emotionRecognition/entity/config_entity.py). Ignore sectret.yaml and params.yaml for now\n",
    "+ Update src/emotionRecognition/constants/__init__.py with information about path to config.yaml and params.yaml files (put dummy key value in params.yaml)\n",
    "+ Update the configuration manager in /src/emotionRecognition/config/configuration.py\n",
    "+ Update the data ingestion components (src/emotionRecognition/components/data_ingestion.py)\n",
    "+ Update the pipeline (src/emotionRecognition/pipeline/stage_01_data_ingestion.py)\n",
    "+ Update main.py\n",
    "+ Ignore updating dvc.yaml for now\n",
    "+ Add `artifacts/data_ingestion/` to .gitignore before git push to remote to avoid pushing large artifact dataset to github.\n"
   ]
  },
  {
   "cell_type": "markdown",
   "metadata": {},
   "source": [
    "#### Stage 2: Prepare base model\n",
    "+ Create and start updating experiment notebook (research/02_prepare_base_model.ipynb)\n",
    "+ Update params.yaml\n",
    "+ Update config/config.yaml file with base model configuration\n",
    "+ Update entity (src/emotionRecognition/entity/config_entity.py) with prepare callback entity\n",
    "+ Update the configuration manager in /src/emotionRecognition/config/configuration.py\n",
    "+ Update the prepare base model components (src/emotionRecognition/components/prepare_base_model.py)\n",
    "+ Update the pipeline (src/emotionRecognition/pipeline/stage_02_prepare_base_model.py)\n",
    "+ Update main.py with prepare base model\n"
   ]
  },
  {
   "cell_type": "markdown",
   "metadata": {},
   "source": [
    "#### Stage 3: Training\n",
    "- Create and start updating experiment notebook (research/03_training.ipynb)\n",
    "- Update config/config.yaml file with training configuration\n",
    "- Update entity (src/emotionRecognition/entity/config_entity.py) with training entity\n",
    "- Update the configuration manager in /src/emotionRecognition/config/configuration.py \n",
    "- Update the training components (src/emotionRecognition/components/model_trainer.py)\n",
    "- Update the pipeline (src/emotionRecognition/pipeline/stage_03_model_trainer.py)\n",
    "- Update main.py with training model\n",
    "- To check tensorboard log, run this in console: tensorboard --logdir artifacts/prepare_callbacks/tensorboard_log_dir\n"
   ]
  },
  {
   "cell_type": "markdown",
   "metadata": {},
   "source": [
    "#### Stage 5: Evaluation and MlFlow Integration\n",
    "- Create and start updating experiment notebook (research/05_model_evaluation.ipynb)\n",
    "- Login to Dagshub using Github account (https://dagshub.com)\n",
    "- Click on **Create** and select **Connect a repository** to connect to the github repo\n",
    "- Under remote > Experiments, copy mlflow tracking code and click **Go to mlflow UI**\n",
    "- Authenticate login to dagshub when promted"
   ]
  },
  {
   "cell_type": "markdown",
   "metadata": {},
   "source": [
    "```python\n",
    "import dagshub\n",
    "dagshub.init(repo_owner='OlumideOlumayegun', repo_name='Facial-Emotion-Recognition-Using-MLflow-and-DVC', mlflow=True)\n",
    "\n",
    "import mlflow\n",
    "with mlflow.start_run():\n",
    "  mlflow.log_param('parameter name', 'value')\n",
    "  mlflow.log_metric('metric name', 1)\n",
    "```"
   ]
  },
  {
   "cell_type": "markdown",
   "metadata": {},
   "source": [
    "- Update entity (src/emotionRecognition/entity/config_entity.py) with model evaluation entity\n",
    "- Update the configuration manager in /src/emotionRecognition/config/configuration.py \n",
    "- Update the model evaluation components (src/emotionRecognition/components/model_evaluation_mlflow.py)\n",
    "- Update the pipeline (src/emotionRecognition/pipeline/stage_04_model_evaluation.py)\n",
    "- Update main.py with model evaluation\n",
    "- Test by running “python main.py” in terminal"
   ]
  },
  {
   "cell_type": "markdown",
   "metadata": {},
   "source": [
    "#### Write dvc.yaml file\n",
    "- Update the dvc.yaml file\n",
    "- Initialise dvc in terminal by running “dvc init”\n",
    "- Execute “dvc repro” in terminal to run pipeline stages\n",
    "- Execute “dvc dag” to see the graph of the pipeline\n",
    "- Learn more about dvc: https://dvc.org/doc\n"
   ]
  },
  {
   "cell_type": "markdown",
   "metadata": {},
   "source": [
    "#### Write prediction pipeline and web app\n",
    "- Update the pipeline (src/bloodcellClassifier/pipeline/predict.py)\n",
    "- Write the app.py file for creating the web app\n",
    "- Write the html file templates/index.html (use sample html codes from boostrap: https://getbootstrap.com/docs/5.3/examples/)\n",
    "- Execute “python app.py” in terminal\n",
    "- Access at localhost:8080 (localhost:8080/train to train the model)\n"
   ]
  },
  {
   "cell_type": "markdown",
   "metadata": {},
   "source": [
    "#### AWS CI/CD deployment with Github Actions\n",
    "##### Prepare code for deployment\n",
    "- Write the Dockerfile\n",
    "- Write ci/cd workflow yaml file (.github/workflows/main.yaml)\n",
    "- Complete AWS set up as follows:\n"
   ]
  },
  {
   "cell_type": "markdown",
   "metadata": {},
   "source": [
    "##### Final\n",
    "- Start pushing changes to githup repo and watch CI/CD deployement workflow in github (under Actions)"
   ]
  },
  {
   "cell_type": "markdown",
   "metadata": {},
   "source": [
    "#### How to run the web application on local machine"
   ]
  },
  {
   "cell_type": "markdown",
   "metadata": {},
   "source": [
    "##### Step 1: Clone the repository\n",
    "<p>https://github.com/OlumideOlumayegun/Facial-Emotion-Recognition-Using-MLflow-and-DVC.git</p>\n"
   ]
  },
  {
   "cell_type": "markdown",
   "metadata": {},
   "source": [
    "##### Step 2: Create a conda environment after opening the repository\n",
    "<p>conda create -n faceVenv python=3.10 -y</p>\n",
    "<p>conda activate faceVenv</p>\n"
   ]
  },
  {
   "cell_type": "markdown",
   "metadata": {},
   "source": [
    "##### Step 3: Install the requirements\n",
    "<p>pip install -r requirements.txt</p>\n",
    "<p># Finally run the following command</p>\n",
    "<p>python app.py</p>\n",
    "<p># Now, open up you local host and port</p>\n",
    "<p>localhost:8080</p>"
   ]
  },
  {
   "cell_type": "markdown",
   "metadata": {},
   "source": [
    "##### Some useful commands:\n",
    "```\n",
    "git reset --soft HEAD~1\n",
    "```"
   ]
  }
 ],
 "metadata": {
  "language_info": {
   "name": "python"
  }
 },
 "nbformat": 4,
 "nbformat_minor": 2
}
